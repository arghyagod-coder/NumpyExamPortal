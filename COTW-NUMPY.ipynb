{
 "cells": [
  {
   "cell_type": "markdown",
   "id": "e37f1b36",
   "metadata": {},
   "source": [
    "## This week's challenge is to test your knowledge on NumPy programming. Go through the problem statement given below and solve the questions following it:\n",
    "\n",
    "Your school has now started conducting online sessions and now it is time for them to conduct examinations online as well. One of your teachers suggested to maintain the results of these examinations online and everyone liked her idea. But since all the teachers are busy in working towards the exam preparation, your school has approached you to help them create a system which can prepare the results of each class. Here is what you need to do:\n",
    "\n",
    "1. You need to create an array to store subject wise marks of 50 students, hence the size of your array should be: 50X6. Every row should contain [Roll number, Maths Marks, Science Marks, English Marks, AI Marks and Social Studies Marks]. Marks will be obtained out of 100.\n",
    "[HINT: You may think of any ways to create this array]\n",
    "\n",
    "2. Post array creation, you need to do the following calculations on it and display the results:\n",
    "\n",
    "     - Class average for each subject: Average marks obtained in each subject should be printed in separate lines.\n",
    "     - Overall class performance: Mean of marks obtained by all the students in all subjects\n",
    "     - Roll number of student who obtained highest percentage\n",
    "     - Roll number of student who obtained lowest percentage\n",
    "     - Percentage of any student as and when asked."
   ]
  },
  {
   "cell_type": "code",
   "execution_count": 1,
   "id": "a7b6d8f8",
   "metadata": {},
   "outputs": [
    {
     "data": {
      "text/plain": [
       "'\\nTake the Input\\n\\nAssign functions\\n\\nThrow the output\\n'"
      ]
     },
     "execution_count": 1,
     "metadata": {},
     "output_type": "execute_result"
    }
   ],
   "source": [
    "# Basic flow-\n",
    "\n",
    "'''\n",
    "Take the Input\n",
    "\n",
    "Assign functions\n",
    "\n",
    "Throw the output\n",
    "'''"
   ]
  },
  {
   "cell_type": "code",
   "execution_count": 2,
   "id": "bad19955",
   "metadata": {},
   "outputs": [],
   "source": [
    "# importing modules- WE NEED NUMPY AND PANDAS Libs here\n",
    "import numpy as np\n",
    "import pandas as pd"
   ]
  },
  {
   "cell_type": "code",
   "execution_count": 3,
   "id": "29162118",
   "metadata": {},
   "outputs": [],
   "source": [
    "tab = np.random.randint(50,100, size=[50,5])\n",
    "\n",
    "# Creating an array of random marks, cuz prompting 50 students marks will be uncomfortable. This can be later modified\n",
    "# as to submit an excel spreadsheet which is presented as marksheet, usually done with pandas"
   ]
  },
  {
   "cell_type": "code",
   "execution_count": 4,
   "id": "02c55d26",
   "metadata": {},
   "outputs": [],
   "source": [
    "ted = tab.reshape(5,50)\n",
    "# Just reshaping the previous array for the ease of indexing and working"
   ]
  },
  {
   "cell_type": "code",
   "execution_count": 5,
   "id": "da6a501c",
   "metadata": {},
   "outputs": [],
   "source": [
    "lsit = np.ndarray.tolist(ted)\n",
    "# Converting an array to a list"
   ]
  },
  {
   "cell_type": "code",
   "execution_count": 6,
   "id": "fc2d7452",
   "metadata": {},
   "outputs": [],
   "source": [
    "def sel(inp):\n",
    "    global non # making non var global/accessible \n",
    "    if inp.lower()=='ai':\n",
    "        non = 0 \n",
    "    elif inp.lower()=='math' or 'mathematics' or 'maths':\n",
    "        non = 1\n",
    "    elif inp.lower()=='science':\n",
    "        non = 2\n",
    "    elif inp.lower()=='sst':\n",
    "        non = 3\n",
    "    elif inp.lower()=='eng' or 'english':\n",
    "        non = 4\n",
    "    \n",
    "# Setting indexes to get the locations in Numpy Array  "
   ]
  },
  {
   "cell_type": "code",
   "execution_count": 7,
   "id": "6dd62e1d",
   "metadata": {},
   "outputs": [],
   "source": [
    "# sec stands for the ted array and num stands for the index defined in the previous cell\n",
    "def findave(sec, num):\n",
    "    avg = sum(sec[num]) / len(sec[num]) # the sum of the indexed array / length of the indexed array \n",
    "    print(avg, '% is the average class performance in the specific subject')\n"
   ]
  },
  {
   "cell_type": "code",
   "execution_count": 8,
   "id": "3ccd6677",
   "metadata": {},
   "outputs": [],
   "source": [
    "# sec stands for ted array\n",
    "\n",
    "def findmeanall(sec):\n",
    "    totm = sum(sec[0])+sum(sec[1])+sum(sec[2])+sum(sec[3])+sum(sec[4]) # sum of index arrays (ENG, MATHS, AI, SCIENCE, SST) / length of index arrays\n",
    "    totn = len(sec[0])+len(sec[0])+len(sec[0])+len(sec[0])+len(sec[0])\n",
    "    mean = totm/totn\n",
    "    print(mean, ' is the average class performance')"
   ]
  },
  {
   "cell_type": "code",
   "execution_count": 9,
   "id": "f428531a",
   "metadata": {},
   "outputs": [],
   "source": [
    "# sec stands for tab array\n",
    "\n",
    "def findmax(sec):\n",
    "    l=[] # emply list\n",
    "    for np_array in sec: # for array in tab\n",
    "        opct = (sum(np_array) / 500)*100 # Finds Average of the exisiting item\n",
    "        l.append(opct) # Appends that item in the list\n",
    "    ar1 = np.array(l) # Making an array out of the l list\n",
    "    maxa = ar1.max() # FINDS THE MAXIMUM OUT\n",
    "    index = l.index(maxa) # Finds the roll no of the person who gets max marks\n",
    "    print(f'Roll No. {index+1} has scored the highest percentage')\n",
    "    "
   ]
  },
  {
   "cell_type": "code",
   "execution_count": 10,
   "id": "2266a3df",
   "metadata": {
    "scrolled": true
   },
   "outputs": [],
   "source": [
    "# sec stands for tab array\n",
    "\n",
    "def findmin(sec):\n",
    "    l=[] # empty list\n",
    "    for np_array in sec: # for array in tab\n",
    "        opct = (sum(np_array) / 500)*100 # Finds Average of the exisiting item\n",
    "        l.append(opct) # Appends that pct\n",
    "    ar1 = np.array(l) # Making an array out of the l list\n",
    "    mina = ar1.min() # FINDS THE MAXIMUM OUT\n",
    "    index = l.index(mina) # Finds the roll no of the person who gets max marks\n",
    "    print(f'Roll No. {index+1} has scored the lowest percentage')\n",
    "    \n",
    "    "
   ]
  },
  {
   "cell_type": "code",
   "execution_count": 11,
   "id": "4349cf70",
   "metadata": {},
   "outputs": [],
   "source": [
    "# sec stands for tab array\n",
    "# rollno for given output\n",
    "\n",
    "def findmypct(rollno, sec):\n",
    "    l=[] # empty list\n",
    "    for np_array in sec: # for array in tab\n",
    "        opct = (sum(np_array) / 500)*100  # Finds Percentage of the existing item\n",
    "        l.append(opct) # Appends the pct\n",
    "    index = l[rollno-1] # defining index\n",
    "    print(f'Roll No. {rollno} has scored {index}%')"
   ]
  },
  {
   "cell_type": "code",
   "execution_count": 12,
   "id": "92f4da26",
   "metadata": {},
   "outputs": [],
   "source": [
    "# sec for tab array\n",
    "\n",
    "def getpctall(sec):   \n",
    "    l=[] # empty list\n",
    "    for np_array in sec: # for array in tab\n",
    "        opct = (sum(np_array) / 500)*100  # Finds Percentage of the existing item\n",
    "        inte = int(opct)\n",
    "        l.append((str(inte))+'%')# Appends the pct\n",
    "    dict = {\n",
    "        'Percentile': l\n",
    "    } # Convert l into dict\n",
    "    dk = pd.DataFrame(dict) # Convert dict to DataFrame\n",
    "    l1 = [] # Empty list\n",
    "    for it in range(1,51):\n",
    "        l1.append(it) # Defining Roll Nos\n",
    "    dk.index = l1 # Rename Roll Nos\n",
    "    print(dk) # Display result\n",
    "    "
   ]
  },
  {
   "cell_type": "code",
   "execution_count": 13,
   "id": "c6f2e1f6",
   "metadata": {},
   "outputs": [],
   "source": [
    "# Making a login system\n",
    "\n",
    "def login(x, y):\n",
    "    # Making few global variables\n",
    "    \n",
    "    global email, passw\n",
    "    \n",
    "    # Fixed School Code (to be given by school)\n",
    "    grpcode = 'ARD6672'\n",
    "    \n",
    "    # Defining Variables\n",
    "    email = x\n",
    "    passw = y\n",
    "    \n",
    "    # Checking validity of mail:\n",
    "    \n",
    "    mail_ext = ('gmail.com' or 'hotmail.com' or 'outlook.com' or 'yahoo.com' or 'aim.com' or 'yandex.com' or 'zohomail.com' or 'tutanota.com' or 'tutanota.de' or 'tutamail.com' or 'tuta.io' or 'keemail.me' or 'icloud.com')\n",
    "    \n",
    "    if mail_ext in email:\n",
    "        pass\n",
    "    else:\n",
    "        print('Invalid Email. Did you forget to put the extension? No business mail accounts allowed')\n",
    "        exit()\n",
    "        \n",
    "    #Checking Validity of School iD\n",
    "        \n",
    "    if passw == grpcode:\n",
    "        pass\n",
    "    else:\n",
    "        print('Invalid ID. Access denied !!')\n",
    "        exit()\n",
    "        "
   ]
  },
  {
   "cell_type": "code",
   "execution_count": 14,
   "id": "ca1e1f37",
   "metadata": {
    "tags": []
   },
   "outputs": [
    {
     "name": "stdout",
     "output_type": "stream",
     "text": [
      "DPS Kolkata Exam Portal\n",
      "\n",
      "(Teacher)\n",
      "\n",
      "Login to your account: \n",
      "\n"
     ]
    },
    {
     "name": "stdin",
     "output_type": "stream",
     "text": [
      "Your Email ID:  arghya@gmail.com\n",
      "\n",
      "School ID provided by School:  ARD6672\n"
     ]
    }
   ],
   "source": [
    "# Greet\n",
    "\n",
    "print('''DPS Kolkata Exam Portal\n",
    "\n",
    "(Teacher)\n",
    "\n",
    "Login to your account: \\n''')\n",
    "mail = input('Your Email ID: ')\n",
    "UID = input('\\nSchool ID provided by School: ')\n",
    "login(mail, UID)"
   ]
  },
  {
   "cell_type": "code",
   "execution_count": 15,
   "id": "ce85b9bb",
   "metadata": {
    "tags": []
   },
   "outputs": [
    {
     "name": "stdout",
     "output_type": "stream",
     "text": [
      "Welcome to the Portal, CT of Class 7 Section B\n",
      "GUIDE--\n",
      "\n",
      "?max_marks = Student with highest percentile\n",
      "?min_marks = Student with lowest percentile\n",
      "?avg_tot = Mean marks of the whole class\n",
      "?p = Find percentage and marks of a specific roll no.\n",
      "?avg_sub = Average Class performance in a specific subject\n",
      "?clsdata = Marks of all students in all subjects\n",
      "?help = Review the guide\n",
      "?getpctall = Get percentage of all students according to roll no.\n"
     ]
    }
   ],
   "source": [
    "import random\n",
    "\n",
    "# Guiding First Steps--\n",
    "\n",
    "print(f'''Welcome to the Portal, CT of Class 7 Section {random.choice(['A', 'B', 'C', 'D', 'E'])}''')\n",
    "print('''GUIDE--\n",
    "\n",
    "?max_marks = Student with highest percentile\n",
    "?min_marks = Student with lowest percentile\n",
    "?avg_tot = Mean marks of the whole class\n",
    "?p = Find percentage and marks of a specific roll no.\n",
    "?avg_sub = Average Class performance in a specific subject\n",
    "?clsdata = Marks of all students in all subjects\n",
    "?help = Review the guide\n",
    "?getpctall = Get percentage of all students according to roll no.''')\n"
   ]
  },
  {
   "cell_type": "code",
   "execution_count": null,
   "id": "371261f4",
   "metadata": {
    "tags": []
   },
   "outputs": [
    {
     "name": "stdin",
     "output_type": "stream",
     "text": [
      "\n",
      "Type your command \n",
      "? help\n"
     ]
    },
    {
     "name": "stdout",
     "output_type": "stream",
     "text": [
      "GUIDE--\n",
      "\n",
      "    ?max_marks = Student with highest percentile\n",
      "    ?min_marks = Student with lowest percentile\n",
      "    ?avg_tot = Mean marks of the whole class\n",
      "    ?p = Find percentage and marks of a specific roll no.\n",
      "    ?avg_sub = Average Class performance in a specific subject\n",
      "    ?clsdata = Marks of all students in all subjects\n",
      "    ?help = Review the guide\n",
      "    ?exit = Exit the portal\n",
      "    ?getpctall = Get percentage of all students according to roll no.\n"
     ]
    },
    {
     "name": "stdin",
     "output_type": "stream",
     "text": [
      "\n",
      "Type your command \n",
      "? clsdata\n"
     ]
    },
    {
     "name": "stdout",
     "output_type": "stream",
     "text": [
      "    Math  Sci  AI  Eng  SST\n",
      "1     87   84  82   80   74\n",
      "2     72   70  53   70   93\n",
      "3     84   60  85   54   94\n",
      "4     85   60  58   80   68\n",
      "5     88   98  91   56   66\n",
      "6     94   58  94   99   64\n",
      "7     65   68  96   59   73\n",
      "8     53   80  54   93   66\n",
      "9     77   78  53   92   80\n",
      "10    85   84  68   86   66\n",
      "11    62   52  92   60   77\n",
      "12    94   51  58   60   62\n",
      "13    52   56  97   70   53\n",
      "14    76   60  55   63   71\n",
      "15    98   76  85   82   57\n",
      "16    85   62  88   75   93\n",
      "17    96   92  51   76   90\n",
      "18    81   74  92   68   77\n",
      "19    68   63  72   69   85\n",
      "20    95   78  65   89   52\n",
      "21    70   97  78   55   67\n",
      "22    87   58  54   56   63\n",
      "23    88   51  96   95   89\n",
      "24    75   68  51   62   54\n",
      "25    97   75  53   59   61\n",
      "26    59   84  81   96   52\n",
      "27    54   82  84   72   94\n",
      "28    56   55  98   96   97\n",
      "29    86   56  68   74   85\n",
      "30    68   96  69   81   66\n",
      "31    89   91  96   71   65\n",
      "32    76   80  56   61   61\n",
      "33    94   60  87   64   55\n",
      "34    75   57  89   50   81\n",
      "35    66   53  99   72   97\n",
      "36    77   92  73   82   98\n",
      "37    96   61  99   78   80\n",
      "38    51   54  53   75   73\n",
      "39    81   70  74   79   66\n",
      "40    62   97  61   71   67\n",
      "41    60   54  51   99   70\n",
      "42    78   63  97   70   81\n",
      "43    77   56  57   54   68\n",
      "44    58   82  51   98   78\n",
      "45    95   89  83   53   79\n",
      "46    67   73  53   59   54\n",
      "47    60   75  76   57   99\n",
      "48    71   51  82   98   86\n",
      "49    55   73  91   85   90\n",
      "50    62   91  93   79   79\n"
     ]
    },
    {
     "name": "stdin",
     "output_type": "stream",
     "text": [
      "\n",
      "Type your command \n",
      "? findpctall\n"
     ]
    },
    {
     "name": "stdout",
     "output_type": "stream",
     "text": [
      "   Percentile\n",
      "1         81%\n",
      "2         71%\n",
      "3         75%\n",
      "4         70%\n",
      "5         79%\n",
      "6         81%\n",
      "7         72%\n",
      "8         69%\n",
      "9         76%\n",
      "10        77%\n",
      "11        68%\n",
      "12        65%\n",
      "13        65%\n",
      "14        65%\n",
      "15        79%\n",
      "16        80%\n",
      "17        81%\n",
      "18        78%\n",
      "19        71%\n",
      "20        75%\n",
      "21        73%\n",
      "22        63%\n",
      "23        83%\n",
      "24        62%\n",
      "25        69%\n",
      "26        74%\n",
      "27        77%\n",
      "28        80%\n",
      "29        73%\n",
      "30        76%\n",
      "31        82%\n",
      "32        66%\n",
      "33        72%\n",
      "34        70%\n",
      "35        77%\n",
      "36        84%\n",
      "37        82%\n",
      "38        61%\n",
      "39        74%\n",
      "40        71%\n",
      "41        66%\n",
      "42        77%\n",
      "43        62%\n",
      "44        73%\n",
      "45        79%\n",
      "46        61%\n",
      "47        73%\n",
      "48        77%\n",
      "49        78%\n",
      "50        80%\n"
     ]
    },
    {
     "name": "stdin",
     "output_type": "stream",
     "text": [
      "\n",
      "Type your command \n",
      "? p\n",
      "Enter Student Roll Number:  3\n"
     ]
    },
    {
     "name": "stdout",
     "output_type": "stream",
     "text": [
      "Roll No. 3 has scored 75.4%\n"
     ]
    },
    {
     "name": "stdin",
     "output_type": "stream",
     "text": [
      "\n",
      "Type your command \n",
      "? avg_tot\n"
     ]
    },
    {
     "name": "stdout",
     "output_type": "stream",
     "text": [
      "73.9  is the average class performance\n"
     ]
    },
    {
     "name": "stdin",
     "output_type": "stream",
     "text": [
      "\n",
      "Type your command \n",
      "? avg_sub\n",
      "Subject Name:  math\n"
     ]
    },
    {
     "name": "stdout",
     "output_type": "stream",
     "text": [
      "73.1 % is the average class performance in the specific subject\n"
     ]
    },
    {
     "name": "stdin",
     "output_type": "stream",
     "text": [
      "\n",
      "Type your command \n",
      "? help\n"
     ]
    },
    {
     "name": "stdout",
     "output_type": "stream",
     "text": [
      "GUIDE--\n",
      "\n",
      "    ?max_marks = Student with highest percentile\n",
      "    ?min_marks = Student with lowest percentile\n",
      "    ?avg_tot = Mean marks of the whole class\n",
      "    ?p = Find percentage and marks of a specific roll no.\n",
      "    ?avg_sub = Average Class performance in a specific subject\n",
      "    ?clsdata = Marks of all students in all subjects\n",
      "    ?help = Review the guide\n",
      "    ?exit = Exit the portal\n",
      "    ?getpctall = Get percentage of all students according to roll no.\n"
     ]
    },
    {
     "name": "stdin",
     "output_type": "stream",
     "text": [
      "\n",
      "Type your command \n",
      "? min_marks\n"
     ]
    },
    {
     "name": "stdout",
     "output_type": "stream",
     "text": [
      "Roll No. 38 has scored the lowest percentage\n"
     ]
    }
   ],
   "source": [
    "# while loop with constructions\n",
    "\n",
    "while True:\n",
    "    ans = input('\\nType your command \\n?') # Main Command\n",
    "    if ans=='max_marks':\n",
    "        findmax(tab)\n",
    "    elif ans == \"avg_tot\":\n",
    "        findmeanall(ted)\n",
    "    elif ans=='min_marks':\n",
    "        findmin(tab)\n",
    "    elif ans=='avg_sub':\n",
    "        sub = input('Subject Name: ')\n",
    "        sel(sub)\n",
    "        findave(ted,non)\n",
    "    elif ans=='clsdata':\n",
    "        df = pd.DataFrame(tab)\n",
    "        df.columns = ['Math', 'Sci', 'AI', 'Eng', 'SST']\n",
    "        df.index = list(range(1,51))\n",
    "        print(df)\n",
    "    elif ans=='help':\n",
    "        print('''GUIDE--\n",
    "\n",
    "    ?max_marks = Student with highest percentile\n",
    "    ?min_marks = Student with lowest percentile\n",
    "    ?avg_tot = Mean marks of the whole class\n",
    "    ?p = Find percentage and marks of a specific roll no.\n",
    "    ?avg_sub = Average Class performance in a specific subject\n",
    "    ?clsdata = Marks of all students in all subjects\n",
    "    ?help = Review the guide\n",
    "    ?exit = Exit the portal\n",
    "    ?getpctall = Get percentage of all students according to roll no.''')\n",
    "    elif ans == 'p':\n",
    "        rno = int(input('Enter Student Roll Number: '))\n",
    "        findmypct(rno, tab)\n",
    "    elif ans == 'findpctall':\n",
    "        getpctall(tab)\n",
    "    elif 'exit' in ans:\n",
    "        exit()\n",
    "    else:\n",
    "        print('Invalid command. Type help to see what to do')"
   ]
  },
  {
   "cell_type": "code",
   "execution_count": null,
   "id": "909c5b45",
   "metadata": {},
   "outputs": [],
   "source": []
  }
 ],
 "metadata": {
  "kernelspec": {
   "display_name": "Python 3",
   "language": "python",
   "name": "python3"
  },
  "language_info": {
   "codemirror_mode": {
    "name": "ipython",
    "version": 3
   },
   "file_extension": ".py",
   "mimetype": "text/x-python",
   "name": "python",
   "nbconvert_exporter": "python",
   "pygments_lexer": "ipython3",
   "version": "3.8.8"
  }
 },
 "nbformat": 4,
 "nbformat_minor": 5
}
